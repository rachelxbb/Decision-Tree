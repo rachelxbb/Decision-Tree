{
 "cells": [
  {
   "cell_type": "code",
   "execution_count": 1,
   "metadata": {},
   "outputs": [],
   "source": [
    "import numpy as np\n",
    "import pandas as pd\n",
    "import matplotlib.pyplot as plt\n",
    "from math import log2"
   ]
  },
  {
   "cell_type": "code",
   "execution_count": 2,
   "metadata": {},
   "outputs": [],
   "source": [
    "#Load data.\n",
    "def load_data(file):\n",
    "    fhand = pd.read_csv(file)\n",
    "    file_object = fhand.rename({'(Occupied':'Occupied', ' Price': 'Price', ' Music': 'Music', ' Location': 'Location', ' VIP': 'VIP', ' Favorite Beer': 'Favorite Beer', ' Enjoy)':'Enjoy'}, axis='columns')\n",
    "    for title in file_object:\n",
    "        key_list =[]\n",
    "        if title == 'Occupied':\n",
    "            for k in file_object['Occupied']:\n",
    "                result = \"\".join (j for j in k if not j.isdigit()).replace(\": \", \"\")\n",
    "                key_list.append(result)\n",
    "            file_object['Occupied'] = key_list\n",
    "        elif title == 'Enjoy':\n",
    "            for k in file_object['Enjoy']:\n",
    "                result = \"\".join (j for j in k if j != \";\" and j != \" \")\n",
    "                key_list.append(result)\n",
    "            file_object['Enjoy'] = key_list\n",
    "        else:\n",
    "            for k in file_object[title]:\n",
    "                result = \"\".join (j for j in k if j != \" \")\n",
    "                key_list.append(result)\n",
    "            file_object[title] = key_list\n",
    "    return file_object"
   ]
  },
  {
   "cell_type": "code",
   "execution_count": 3,
   "metadata": {},
   "outputs": [],
   "source": [
    "#Reorganize the data frame.\n",
    "def reorganize(file):\n",
    "    file_object = load_data(file)\n",
    "    data = file_object.values.tolist()\n",
    "    label = list(file_object.columns)\n",
    "    return data, label"
   ]
  },
  {
   "cell_type": "code",
   "execution_count": 4,
   "metadata": {},
   "outputs": [],
   "source": [
    "#Calculate entropy for attributes.\n",
    "def calculate_entropy(data):\n",
    "    label_counts = {}\n",
    "    \n",
    "    for v in data:\n",
    "        label = v[-1]\n",
    "        if label not in label_counts.keys():\n",
    "            label_counts[label] = 0\n",
    "            label_counts[label] += 1\n",
    "        else:\n",
    "            label_counts[label] += 1\n",
    "\n",
    "    count = len(data)\n",
    "    entropy = 0\n",
    "    \n",
    "    for key in label_counts:\n",
    "        p = float(label_counts[key]) / count\n",
    "        entropy -= p * log2(p)\n",
    "    return entropy"
   ]
  },
  {
   "cell_type": "code",
   "execution_count": 5,
   "metadata": {},
   "outputs": [],
   "source": [
    "#split the data.\n",
    "def split_data(data, index, value):\n",
    "    sub_data = []\n",
    "    for row in data:\n",
    "        if row[index] == value:\n",
    "            sub_row = row[:index]\n",
    "            sub_row.extend(row[index + 1:])\n",
    "            sub_data.append(sub_row)\n",
    "    return sub_data"
   ]
  },
  {
   "cell_type": "code",
   "execution_count": 6,
   "metadata": {},
   "outputs": [],
   "source": [
    "#Decide the best attribute.\n",
    "def bestfeat(data, labels):\n",
    "    entropy_before = calculate_entropy(data)\n",
    "    label_number = len(labels) - 1\n",
    "    value_list = []\n",
    "    i_gain_list = []\n",
    "    entropy_new = 0\n",
    "    \n",
    "    for i in range(label_number):\n",
    "        values = [rows[i] for rows in data]\n",
    "        value_uni = set(value_list)\n",
    "        \n",
    "        for value in value_uni:\n",
    "            index = labels.index(label)\n",
    "            sub_data = split_data(data, index, value)\n",
    "            p = len(sub_data) / len(data)\n",
    "            entropy_new += p * calculate_entropy(sub_data)\n",
    "        i_gain = entropy_before - entropy_new\n",
    "\n",
    "        i_gain_list.append(i_gain)\n",
    "\n",
    "        \n",
    "        if len(i_gain_list) > 1:\n",
    "            best_i = max(i_gain_list)\n",
    "            best_feat = labels[i_gain_list.index(best_i)]\n",
    "        else:\n",
    "            best_feat = labels[i]\n",
    "\n",
    "        return best_feat"
   ]
  },
  {
   "cell_type": "code",
   "execution_count": 7,
   "metadata": {},
   "outputs": [],
   "source": [
    "#calculate the majority for the last attribute.\n",
    "def majority(lab_list):\n",
    "    label_count = {}\n",
    "    maj_var = 0\n",
    "    maj_key = ''\n",
    "    for lab_var in lab_list:\n",
    "        if lab_var not in label_count.keys():\n",
    "            label_count[lab_var] = 0\n",
    "        else:\n",
    "            label_count[lab_var] += 1\n",
    "\n",
    "    for key, value in label_count.items():\n",
    "        if value > maj_var:\n",
    "            maj_key = key\n",
    "    return maj_key"
   ]
  },
  {
   "cell_type": "code",
   "execution_count": 8,
   "metadata": {},
   "outputs": [],
   "source": [
    "#create the decision tree.\n",
    "def create_dt(data, labels):    \n",
    "    lab_list = [row[-1] for row in data]\n",
    "\n",
    "    if lab_list.count(lab_list[-1]) == len(lab_list):\n",
    "        return lab_list[-1]\n",
    "    if len(data[0]) == 1:\n",
    "        return majority(lab_list)\n",
    "   \n",
    "    feat_value = bestfeat(data, labels)\n",
    "    feat_index = labels.index(feat_value)\n",
    "    decision_tree = {feat_value: {}}\n",
    "    \n",
    "    feat_val = [row[feat_index] for row in data]\n",
    "    unique_feat_val = set(feat_val)\n",
    "\n",
    "    for var in unique_feat_val:\n",
    "        sub_labels = labels[:feat_index] + labels[feat_index +1 :]\n",
    "        sub_data = split_data(data, feat_index, var)\n",
    "        decision_tree[feat_value][var] = create_dt(sub_data, sub_labels)\n",
    "    return decision_tree"
   ]
  },
  {
   "cell_type": "code",
   "execution_count": 9,
   "metadata": {},
   "outputs": [
    {
     "data": {
      "text/plain": [
       "{'Occupied': {'Low': {'Price': {'Expensive': 'No',\n",
       "    'Normal': {'Music': {'Quiet': {'Location': {'City-Center': {'VIP': {'No': {'Favorite Beer': {'No': ''}}}},\n",
       "        'Ein-Karem': 'No'}}}},\n",
       "    'Cheap': {'Music': {'Quiet': 'No', 'Loud': 'Yes'}}}},\n",
       "  'High': {'Price': {'Normal': {'Music': {'Quiet': 'No', 'Loud': 'Yes'}},\n",
       "    'Expensive': {'Music': {'Loud': {'Location': {'City-Center': 'Yes',\n",
       "        'Talpiot': 'No'}}}},\n",
       "    'Cheap': 'Yes'}},\n",
       "  'Moderate': {'Price': {'Normal': 'Yes',\n",
       "    'Expensive': {'Music': {'Quiet': {'Location': {'German-Colony': {'VIP': {'No': 'No',\n",
       "          'Yes': 'Yes'}},\n",
       "        'Mahane-Yehuda': 'Yes'}}}},\n",
       "    'Cheap': {'Music': {'Loud': {'Location': {'Mahane-Yehuda': 'Yes',\n",
       "        'Talpiot': 'No'}}}}}}}}"
      ]
     },
     "execution_count": 9,
     "metadata": {},
     "output_type": "execute_result"
    }
   ],
   "source": [
    "#print decision tree.\n",
    "file = 'dt_data.txt'\n",
    "data, labels = reorganize(file)\n",
    "dt = create_dt(data, labels)\n",
    "dt"
   ]
  },
  {
   "cell_type": "code",
   "execution_count": 29,
   "metadata": {},
   "outputs": [],
   "source": [
    "#make a prediction.\n",
    "def prediction(dt):\n",
    "    pre_data =  ['Moderate', 'Cheap', 'Loud', 'City-Center', 'No', 'No']\n",
    "    pre_labels = reorganize('dt_data.txt')[1][-1]\n",
    "    feat = ''.join(dt.keys())\n",
    "    sub_dt = dt[feat]\n",
    "    index = labels.index(feat)\n",
    "    label = 'Yes'\n",
    "    for key in sub_dt.keys():\n",
    "        if data[index] == key:\n",
    "            if sub_dt[key] == dict:\n",
    "                label = prediction(sub_dt[key])\n",
    "            else:\n",
    "                label = sub_dt[key]\n",
    "    \n",
    "    return label"
   ]
  },
  {
   "cell_type": "code",
   "execution_count": 30,
   "metadata": {},
   "outputs": [
    {
     "data": {
      "text/plain": [
       "'Yes'"
      ]
     },
     "execution_count": 30,
     "metadata": {},
     "output_type": "execute_result"
    }
   ],
   "source": [
    "pre_data =  ['Moderate', 'Cheap', 'Loud', 'City-Center', 'No', 'No']\n",
    "pre_labels = reorganize('dt_data.txt')[1][-1]\n",
    "prediction(dt)"
   ]
  },
  {
   "cell_type": "code",
   "execution_count": null,
   "metadata": {},
   "outputs": [],
   "source": []
  }
 ],
 "metadata": {
  "kernelspec": {
   "display_name": "Python 3",
   "language": "python",
   "name": "python3"
  },
  "language_info": {
   "codemirror_mode": {
    "name": "ipython",
    "version": 3
   },
   "file_extension": ".py",
   "mimetype": "text/x-python",
   "name": "python",
   "nbconvert_exporter": "python",
   "pygments_lexer": "ipython3",
   "version": "3.7.4"
  }
 },
 "nbformat": 4,
 "nbformat_minor": 2
}
